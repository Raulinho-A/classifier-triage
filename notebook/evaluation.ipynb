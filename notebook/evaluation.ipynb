{
 "cells": [
  {
   "cell_type": "code",
   "execution_count": 1,
   "id": "3342a9c8",
   "metadata": {},
   "outputs": [],
   "source": [
    "%load_ext autoreload\n",
    "%autoreload 2"
   ]
  },
  {
   "cell_type": "code",
   "execution_count": 2,
   "id": "7edbbef0",
   "metadata": {},
   "outputs": [],
   "source": [
    "import pandas as pd\n",
    "from catboost import CatBoostClassifier"
   ]
  },
  {
   "cell_type": "code",
   "execution_count": 3,
   "id": "e562e2ab",
   "metadata": {},
   "outputs": [],
   "source": [
    "from joblib import load\n",
    "pipeline_rf = load('./models/randomforest_pipeline.pkl')"
   ]
  },
  {
   "cell_type": "code",
   "execution_count": 4,
   "id": "7bea8630",
   "metadata": {},
   "outputs": [
    {
     "data": {
      "text/plain": [
       "{'preprocessing': ColumnTransformer(transformers=[('cat', OneHotEncoder(handle_unknown='ignore'),\n",
       "                                  ['Group', 'Sex', 'Arrival mode', 'Injury',\n",
       "                                   'Mental']),\n",
       "                                 ('std', StandardScaler(), ['Age', 'HR']),\n",
       "                                 ('rob', RobustScaler(),\n",
       "                                  ['NRS_pain', 'SBP', 'RR', 'BT'])]),\n",
       " 'classifier': RandomForestClassifier(random_state=42)}"
      ]
     },
     "execution_count": 4,
     "metadata": {},
     "output_type": "execute_result"
    }
   ],
   "source": [
    "pipeline_rf.named_steps"
   ]
  },
  {
   "cell_type": "code",
   "execution_count": 5,
   "id": "e1999538",
   "metadata": {},
   "outputs": [
    {
     "data": {
      "text/plain": [
       "array(['Group', 'Sex', 'Age', 'Arrival mode', 'Injury', 'Mental',\n",
       "       'NRS_pain', 'SBP', 'HR', 'RR', 'BT'], dtype=object)"
      ]
     },
     "execution_count": 5,
     "metadata": {},
     "output_type": "execute_result"
    }
   ],
   "source": [
    "expected_columns = pipeline_rf.named_steps['preprocessing'].feature_names_in_\n",
    "expected_columns"
   ]
  },
  {
   "cell_type": "code",
   "execution_count": 6,
   "id": "299cc61a",
   "metadata": {},
   "outputs": [
    {
     "data": {
      "text/plain": [
       "<catboost.core.CatBoostClassifier at 0x17cbf3580d0>"
      ]
     },
     "execution_count": 6,
     "metadata": {},
     "output_type": "execute_result"
    }
   ],
   "source": [
    "model_cb = CatBoostClassifier()\n",
    "model_cb.load_model('./models/catboost_model.cbm')"
   ]
  },
  {
   "cell_type": "code",
   "execution_count": 7,
   "id": "03cd6946",
   "metadata": {},
   "outputs": [
    {
     "data": {
      "text/plain": [
       "['Group',\n",
       " 'Sex',\n",
       " 'Age',\n",
       " 'Arrival mode',\n",
       " 'Injury',\n",
       " 'Mental',\n",
       " 'NRS_pain',\n",
       " 'SBP',\n",
       " 'HR',\n",
       " 'RR',\n",
       " 'BT']"
      ]
     },
     "execution_count": 7,
     "metadata": {},
     "output_type": "execute_result"
    }
   ],
   "source": [
    "model_cb.feature_names_"
   ]
  },
  {
   "cell_type": "code",
   "execution_count": 8,
   "id": "2a86626f",
   "metadata": {},
   "outputs": [
    {
     "data": {
      "text/html": [
       "<div>\n",
       "<style scoped>\n",
       "    .dataframe tbody tr th:only-of-type {\n",
       "        vertical-align: middle;\n",
       "    }\n",
       "\n",
       "    .dataframe tbody tr th {\n",
       "        vertical-align: top;\n",
       "    }\n",
       "\n",
       "    .dataframe thead th {\n",
       "        text-align: right;\n",
       "    }\n",
       "</style>\n",
       "<table border=\"1\" class=\"dataframe\">\n",
       "  <thead>\n",
       "    <tr style=\"text-align: right;\">\n",
       "      <th></th>\n",
       "      <th>Group</th>\n",
       "      <th>Sex</th>\n",
       "      <th>Age</th>\n",
       "      <th>Arrival mode</th>\n",
       "      <th>Injury</th>\n",
       "      <th>Mental</th>\n",
       "      <th>NRS_pain</th>\n",
       "      <th>SBP</th>\n",
       "      <th>HR</th>\n",
       "      <th>RR</th>\n",
       "      <th>BT</th>\n",
       "    </tr>\n",
       "  </thead>\n",
       "  <tbody>\n",
       "    <tr>\n",
       "      <th>0</th>\n",
       "      <td>2</td>\n",
       "      <td>1</td>\n",
       "      <td>68</td>\n",
       "      <td>3</td>\n",
       "      <td>2</td>\n",
       "      <td>1</td>\n",
       "      <td>3</td>\n",
       "      <td>130</td>\n",
       "      <td>82</td>\n",
       "      <td>20</td>\n",
       "      <td>36.4</td>\n",
       "    </tr>\n",
       "  </tbody>\n",
       "</table>\n",
       "</div>"
      ],
      "text/plain": [
       "   Group  Sex  Age  Arrival mode  Injury  Mental  NRS_pain  SBP  HR  RR    BT\n",
       "0      2    1   68             3       2       1         3  130  82  20  36.4"
      ]
     },
     "execution_count": 8,
     "metadata": {},
     "output_type": "execute_result"
    }
   ],
   "source": [
    "nueva_muestra = pd.DataFrame([{\n",
    "    'Group': 2,        # Tipo de centro de atención: 2 = Regional (ED de 4to nivel, mayor capacidad)\n",
    "    'Sex': 1,          # Sexo del paciente: 1 = Mujer\n",
    "    'Age': 68,         # Edad del paciente en años\n",
    "    'Arrival mode': 3, # Modo de llegada: 3 = Vehículo privado (sin traslado especializado)\n",
    "    'Injury': 2,       # Lesión presente: 2 = Sí (llegó por una lesión)\n",
    "    'Mental': 1,       # Estado mental: 1 = Alerta (nivel más alto de conciencia)\n",
    "    'NRS_pain': 3,     # Escala Numérica del Dolor (NRS): 3 = Dolor leve (0-3 leve, 4-6 moderado, 7-10 severo)\n",
    "    'SBP': 130,        # Presión Arterial Sistólica (SBP): 130 mmHg (ligeramente elevada)\n",
    "    'HR': 82,          # Frecuencia Cardíaca (HR): 82 latidos por minuto (normal)\n",
    "    'RR': 20,          # Frecuencia Respiratoria (RR): 20 respiraciones/min (en el límite superior normal)\n",
    "    'BT': 36.4         # Temperatura corporal (BT): 36.4 °C (normal)\n",
    "}])\n",
    "\n",
    "nueva_muestra"
   ]
  },
  {
   "cell_type": "code",
   "execution_count": 20,
   "id": "2230ea35",
   "metadata": {},
   "outputs": [
    {
     "name": "stdout",
     "output_type": "stream",
     "text": [
      "<class 'pandas.core.frame.DataFrame'>\n",
      "RangeIndex: 1 entries, 0 to 0\n",
      "Data columns (total 11 columns):\n",
      " #   Column        Non-Null Count  Dtype  \n",
      "---  ------        --------------  -----  \n",
      " 0   Group         1 non-null      int64  \n",
      " 1   Sex           1 non-null      int64  \n",
      " 2   Age           1 non-null      int64  \n",
      " 3   Arrival mode  1 non-null      int64  \n",
      " 4   Injury        1 non-null      int64  \n",
      " 5   Mental        1 non-null      int64  \n",
      " 6   NRS_pain      1 non-null      int64  \n",
      " 7   SBP           1 non-null      int64  \n",
      " 8   HR            1 non-null      int64  \n",
      " 9   RR            1 non-null      int64  \n",
      " 10  BT            1 non-null      float64\n",
      "dtypes: float64(1), int64(10)\n",
      "memory usage: 220.0 bytes\n"
     ]
    }
   ],
   "source": [
    "nueva_muestra.info()"
   ]
  },
  {
   "cell_type": "code",
   "execution_count": 9,
   "metadata": {},
   "outputs": [
    {
     "name": "stdout",
     "output_type": "stream",
     "text": [
      "Predicción RandomForest: 0\n",
      "Predicción CatBoost: 0\n"
     ]
    }
   ],
   "source": [
    "pred_rf = pipeline_rf.predict(nueva_muestra)\n",
    "pred_cb = model_cb.predict(nueva_muestra)\n",
    "\n",
    "print(\"Predicción RandomForest:\", pred_rf[0])\n",
    "print(\"Predicción CatBoost:\", pred_cb[0])"
   ]
  },
  {
   "cell_type": "code",
   "execution_count": 10,
   "id": "1f591877",
   "metadata": {},
   "outputs": [],
   "source": [
    "casos_criticos = pd.DataFrame([\n",
    "    {\n",
    "        'Group': 1,        # Tipo de centro: 1 = Local (ED de 3er nivel)\n",
    "        'Sex': 1,          # Sexo: 1 = Mujer\n",
    "        'Age': 25,         # Paciente joven\n",
    "        'Arrival mode': 3, # Llegó por cuenta propia (vehículo privado)\n",
    "        'Injury': 2,       # Sí llegó por lesión\n",
    "        'Mental': 1,       # Estado de conciencia: Alerta\n",
    "        'NRS_pain': 3,     # Dolor leve\n",
    "        'SBP': 85,         # Presión arterial sistólica baja (hipotensión leve)\n",
    "        'HR': 80,          # Frecuencia cardíaca normal\n",
    "        'RR': 20,          # Frecuencia respiratoria en límite normal\n",
    "        'BT': 36.9         # Temperatura normal-alta\n",
    "    },\n",
    "    {\n",
    "        'Group': 2,        # Tipo de centro: 2 = Regional (ED de 4to nivel)\n",
    "        'Sex': 1,          # Sexo: 1 = Mujer\n",
    "        'Age': 73,         # Persona adulta mayor\n",
    "        'Arrival mode': 2, # Llegó en ambulancia pública\n",
    "        'Injury': 2,       # Sí llegó por lesión\n",
    "        'Mental': 4,       # Inconsciente (sin respuesta)\n",
    "        'NRS_pain': 8,     # Dolor severo\n",
    "        'SBP': 92,         # Presión sistólica apenas estable\n",
    "        'HR': 135,         # Taquicardia (frecuencia elevada)\n",
    "        'RR': 30,          # Frecuencia respiratoria elevada (disnea)\n",
    "        'BT': 39.5         # Fiebre alta\n",
    "    }\n",
    "])\n"
   ]
  },
  {
   "cell_type": "code",
   "execution_count": 11,
   "id": "50d06e1a",
   "metadata": {},
   "outputs": [
    {
     "name": "stdout",
     "output_type": "stream",
     "text": [
      "RandomForest: [0 1]\n",
      "CatBoost: [0 1]\n"
     ]
    }
   ],
   "source": [
    "pred_rf = pipeline_rf.predict(casos_criticos)\n",
    "pred_cb = model_cb.predict(casos_criticos)\n",
    "\n",
    "print(\"RandomForest:\", pred_rf)\n",
    "print(\"CatBoost:\", pred_cb)"
   ]
  },
  {
   "cell_type": "code",
   "execution_count": 12,
   "id": "5d31e84d",
   "metadata": {},
   "outputs": [],
   "source": [
    "casos_criticos_2 = pd.DataFrame([\n",
    "    {\n",
    "        'Group': 1,        # Tipo de centro: 1 = Local (ED de 3er nivel, menor capacidad)\n",
    "        'Sex': 2,          # Sexo: 2 = Hombre\n",
    "        'Age': 87,         # Edad avanzada, adulto mayor frágil\n",
    "        'Arrival mode': 1, # Llegó caminando (sin traslado especializado)\n",
    "        'Injury': 2,       # Lesión presente\n",
    "        'Mental': 3,       # Responde solo al dolor (disminución del estado de conciencia)\n",
    "        'NRS_pain': 9,     # Dolor severo\n",
    "        'SBP': 85,         # Presión arterial baja (hipotensión)\n",
    "        'HR': 120,         # Taquicardia (alta frecuencia cardíaca)\n",
    "        'RR': 28,          # Frecuencia respiratoria elevada (signo de insuficiencia respiratoria)\n",
    "        'BT': 39.2         # Fiebre alta (posible infección o sepsis)\n",
    "    },\n",
    "    {\n",
    "        'Group': 2,        # Centro regional (ED 4to nivel, mayor capacidad)\n",
    "        'Sex': 1,          # Mujer\n",
    "        'Age': 73,         # Persona adulta mayor\n",
    "        'Arrival mode': 2, # Ambulancia pública (traslado con alerta)\n",
    "        'Injury': 2,       # Lesión presente\n",
    "        'Mental': 4,       # Inconsciente (sin respuesta)\n",
    "        'NRS_pain': 8,     # Dolor severo\n",
    "        'SBP': 92,         # Presión sistólica límite bajo\n",
    "        'HR': 135,         # Taquicardia severa\n",
    "        'RR': 30,          # Disnea intensa\n",
    "        'BT': 39.5         # Fiebre muy alta\n",
    "    }\n",
    "])"
   ]
  },
  {
   "cell_type": "code",
   "execution_count": 13,
   "id": "e9b378f2",
   "metadata": {},
   "outputs": [
    {
     "name": "stdout",
     "output_type": "stream",
     "text": [
      "RandomForest: [1 1]\n",
      "CatBoost: [1 1]\n"
     ]
    }
   ],
   "source": [
    "pred_rf_2 = pipeline_rf.predict(casos_criticos_2)\n",
    "pred_cb_2 = model_cb.predict(casos_criticos_2)\n",
    "\n",
    "print(\"RandomForest:\", pred_rf_2)\n",
    "print(\"CatBoost:\", pred_cb_2)"
   ]
  },
  {
   "cell_type": "code",
   "execution_count": 14,
   "id": "85076f50",
   "metadata": {},
   "outputs": [],
   "source": [
    "muestra_3 = pd.DataFrame([\n",
    "    {\n",
    "        'Group': 1,        # Centro local (ED de 3er nivel, menor capacidad resolutiva)\n",
    "        'Sex': 2,          # Hombre\n",
    "        'Age': 87,         # Edad avanzada (adulto mayor, alto riesgo)\n",
    "        'Arrival mode': 1, # Llegó caminando (sin asistencia médica previa)\n",
    "        'BT': 39.2,        # Temperatura corporal elevada (fiebre alta → posible infección o sepsis)\n",
    "        'NRS_pain': 9,     # Dolor severo (escala del 0 al 10 → ≥7 es crítico)\n",
    "        'Injury': 2,       # Lesión presente (requiere evaluación rápida)\n",
    "        'Mental': 3,       # Estado de conciencia alterado → responde solo al dolor\n",
    "        'SBP': 85,         # Presión arterial sistólica baja (hipotensión: riesgo de shock)\n",
    "        'HR': 120,         # Taquicardia (frecuencia cardíaca elevada)\n",
    "        'RR': 28           # Frecuencia respiratoria elevada (signo de disnea o compensación)\n",
    "    }\n",
    "])"
   ]
  },
  {
   "cell_type": "code",
   "execution_count": 15,
   "id": "a39ce15f",
   "metadata": {},
   "outputs": [
    {
     "name": "stdout",
     "output_type": "stream",
     "text": [
      "RandomForest: [1]\n",
      "CatBoost: [1]\n"
     ]
    }
   ],
   "source": [
    "pred_rf_3 = pipeline_rf.predict(muestra_3)\n",
    "pred_cb_3 = model_cb.predict(muestra_3)\n",
    "\n",
    "print(\"RandomForest:\", pred_rf_3)\n",
    "print(\"CatBoost:\", pred_cb_3)"
   ]
  },
  {
   "cell_type": "markdown",
   "id": "f8703fbc",
   "metadata": {},
   "source": [
    "Se han entrenado y validado dos modelos de clasificación binaria para predecir la condición de emergencia médica a partir de signos vitales, variables de llegada y estado mental del paciente.\n",
    "\n",
    "- **RandomForest** y **CatBoost** mostraron el mejor rendimiento en precisión y recall.\n",
    "- Ambos modelos predicen correctamente casos críticos simulados.\n",
    "- El pipeline de RandomForest incluye codificación y escalado automático.\n",
    "- CatBoost opera sobre datos crudos, facilitando su integración."
   ]
  },
  {
   "cell_type": "code",
   "execution_count": null,
   "id": "967907dc",
   "metadata": {},
   "outputs": [],
   "source": []
  }
 ],
 "metadata": {
  "kernelspec": {
   "display_name": "venv",
   "language": "python",
   "name": "python3"
  },
  "language_info": {
   "codemirror_mode": {
    "name": "ipython",
    "version": 3
   },
   "file_extension": ".py",
   "mimetype": "text/x-python",
   "name": "python",
   "nbconvert_exporter": "python",
   "pygments_lexer": "ipython3",
   "version": "3.11.9"
  }
 },
 "nbformat": 4,
 "nbformat_minor": 5
}
