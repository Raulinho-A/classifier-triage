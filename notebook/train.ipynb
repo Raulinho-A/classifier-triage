{
 "cells": [
  {
   "cell_type": "code",
   "execution_count": 32,
   "id": "eea834e4",
   "metadata": {},
   "outputs": [
    {
     "name": "stdout",
     "output_type": "stream",
     "text": [
      "The autoreload extension is already loaded. To reload it, use:\n",
      "  %reload_ext autoreload\n"
     ]
    }
   ],
   "source": [
    "%load_ext autoreload\n",
    "%autoreload 2"
   ]
  },
  {
   "cell_type": "code",
   "execution_count": 33,
   "id": "e116550c",
   "metadata": {},
   "outputs": [],
   "source": [
    "import pandas as pd\n",
    "import numpy as np\n",
    "import matplotlib.pyplot as plt"
   ]
  },
  {
   "cell_type": "code",
   "execution_count": 35,
   "id": "8debe2d7",
   "metadata": {},
   "outputs": [],
   "source": [
    "from sklearn.model_selection import train_test_split\n",
    "from sklearn.metrics import classification_report"
   ]
  },
  {
   "cell_type": "code",
   "execution_count": 68,
   "id": "ea156692",
   "metadata": {},
   "outputs": [],
   "source": [
    "from sklearn.metrics import precision_score, recall_score, f1_score, accuracy_score"
   ]
  },
  {
   "cell_type": "code",
   "execution_count": 69,
   "id": "51ef192e",
   "metadata": {},
   "outputs": [],
   "source": [
    "resultados = {}"
   ]
  },
  {
   "cell_type": "code",
   "execution_count": 70,
   "id": "9dab7bd6",
   "metadata": {},
   "outputs": [],
   "source": [
    "def evaluar_modelo(nombre, y_true, y_pred):\n",
    "    resultados[nombre] = {\n",
    "        'Accuracy': accuracy_score(y_true, y_pred),\n",
    "        'Precision (0)': precision_score(y_true, y_pred, pos_label=0),\n",
    "        'Precision (1)': precision_score(y_true, y_pred, pos_label=1),\n",
    "        'Recall (0)': recall_score(y_true, y_pred, pos_label=0),\n",
    "        'Recall (1)': recall_score(y_true, y_pred, pos_label=1),\n",
    "        'F1 (0)': f1_score(y_true, y_pred, pos_label=0),\n",
    "        'F1 (1)': f1_score(y_true, y_pred, pos_label=1),\n",
    "    }"
   ]
  },
  {
   "cell_type": "markdown",
   "id": "82ac3b63",
   "metadata": {},
   "source": [
    "1. RandomForestClassifier "
   ]
  },
  {
   "cell_type": "code",
   "execution_count": 71,
   "id": "b6ef65ff",
   "metadata": {},
   "outputs": [],
   "source": [
    "from sklearn.ensemble import RandomForestClassifier"
   ]
  },
  {
   "cell_type": "code",
   "execution_count": 72,
   "id": "facacfc5",
   "metadata": {},
   "outputs": [
    {
     "data": {
      "text/html": [
       "<div>\n",
       "<style scoped>\n",
       "    .dataframe tbody tr th:only-of-type {\n",
       "        vertical-align: middle;\n",
       "    }\n",
       "\n",
       "    .dataframe tbody tr th {\n",
       "        vertical-align: top;\n",
       "    }\n",
       "\n",
       "    .dataframe thead th {\n",
       "        text-align: right;\n",
       "    }\n",
       "</style>\n",
       "<table border=\"1\" class=\"dataframe\">\n",
       "  <thead>\n",
       "    <tr style=\"text-align: right;\">\n",
       "      <th></th>\n",
       "      <th>Age</th>\n",
       "      <th>Patients number per hour</th>\n",
       "      <th>NRS_pain</th>\n",
       "      <th>SBP</th>\n",
       "      <th>HR</th>\n",
       "      <th>RR</th>\n",
       "      <th>BT</th>\n",
       "      <th>Group_1</th>\n",
       "      <th>Group_2</th>\n",
       "      <th>Sex_1</th>\n",
       "      <th>...</th>\n",
       "      <th>Arrival mode_5</th>\n",
       "      <th>Arrival mode_6</th>\n",
       "      <th>Arrival mode_7</th>\n",
       "      <th>Injury_1</th>\n",
       "      <th>Injury_2</th>\n",
       "      <th>Mental_1</th>\n",
       "      <th>Mental_2</th>\n",
       "      <th>Mental_3</th>\n",
       "      <th>Mental_4</th>\n",
       "      <th>target_emergencia</th>\n",
       "    </tr>\n",
       "  </thead>\n",
       "  <tbody>\n",
       "    <tr>\n",
       "      <th>0</th>\n",
       "      <td>71</td>\n",
       "      <td>3</td>\n",
       "      <td>2.0</td>\n",
       "      <td>160.0</td>\n",
       "      <td>84.0</td>\n",
       "      <td>18.0</td>\n",
       "      <td>36.6</td>\n",
       "      <td>False</td>\n",
       "      <td>True</td>\n",
       "      <td>False</td>\n",
       "      <td>...</td>\n",
       "      <td>False</td>\n",
       "      <td>False</td>\n",
       "      <td>False</td>\n",
       "      <td>False</td>\n",
       "      <td>True</td>\n",
       "      <td>True</td>\n",
       "      <td>False</td>\n",
       "      <td>False</td>\n",
       "      <td>False</td>\n",
       "      <td>0</td>\n",
       "    </tr>\n",
       "    <tr>\n",
       "      <th>1</th>\n",
       "      <td>56</td>\n",
       "      <td>12</td>\n",
       "      <td>2.0</td>\n",
       "      <td>137.0</td>\n",
       "      <td>60.0</td>\n",
       "      <td>20.0</td>\n",
       "      <td>36.5</td>\n",
       "      <td>True</td>\n",
       "      <td>False</td>\n",
       "      <td>True</td>\n",
       "      <td>...</td>\n",
       "      <td>False</td>\n",
       "      <td>False</td>\n",
       "      <td>False</td>\n",
       "      <td>False</td>\n",
       "      <td>True</td>\n",
       "      <td>True</td>\n",
       "      <td>False</td>\n",
       "      <td>False</td>\n",
       "      <td>False</td>\n",
       "      <td>0</td>\n",
       "    </tr>\n",
       "    <tr>\n",
       "      <th>2</th>\n",
       "      <td>68</td>\n",
       "      <td>8</td>\n",
       "      <td>2.0</td>\n",
       "      <td>130.0</td>\n",
       "      <td>102.0</td>\n",
       "      <td>20.0</td>\n",
       "      <td>36.6</td>\n",
       "      <td>False</td>\n",
       "      <td>True</td>\n",
       "      <td>True</td>\n",
       "      <td>...</td>\n",
       "      <td>False</td>\n",
       "      <td>False</td>\n",
       "      <td>False</td>\n",
       "      <td>False</td>\n",
       "      <td>True</td>\n",
       "      <td>True</td>\n",
       "      <td>False</td>\n",
       "      <td>False</td>\n",
       "      <td>False</td>\n",
       "      <td>0</td>\n",
       "    </tr>\n",
       "    <tr>\n",
       "      <th>3</th>\n",
       "      <td>71</td>\n",
       "      <td>8</td>\n",
       "      <td>3.0</td>\n",
       "      <td>139.0</td>\n",
       "      <td>88.0</td>\n",
       "      <td>20.0</td>\n",
       "      <td>36.5</td>\n",
       "      <td>True</td>\n",
       "      <td>False</td>\n",
       "      <td>False</td>\n",
       "      <td>...</td>\n",
       "      <td>False</td>\n",
       "      <td>False</td>\n",
       "      <td>False</td>\n",
       "      <td>True</td>\n",
       "      <td>False</td>\n",
       "      <td>True</td>\n",
       "      <td>False</td>\n",
       "      <td>False</td>\n",
       "      <td>False</td>\n",
       "      <td>0</td>\n",
       "    </tr>\n",
       "    <tr>\n",
       "      <th>4</th>\n",
       "      <td>58</td>\n",
       "      <td>4</td>\n",
       "      <td>3.0</td>\n",
       "      <td>91.0</td>\n",
       "      <td>93.0</td>\n",
       "      <td>18.0</td>\n",
       "      <td>36.5</td>\n",
       "      <td>True</td>\n",
       "      <td>False</td>\n",
       "      <td>False</td>\n",
       "      <td>...</td>\n",
       "      <td>False</td>\n",
       "      <td>False</td>\n",
       "      <td>False</td>\n",
       "      <td>True</td>\n",
       "      <td>False</td>\n",
       "      <td>True</td>\n",
       "      <td>False</td>\n",
       "      <td>False</td>\n",
       "      <td>False</td>\n",
       "      <td>0</td>\n",
       "    </tr>\n",
       "  </tbody>\n",
       "</table>\n",
       "<p>5 rows × 25 columns</p>\n",
       "</div>"
      ],
      "text/plain": [
       "   Age  Patients number per hour  NRS_pain    SBP     HR    RR    BT  Group_1  \\\n",
       "0   71                         3       2.0  160.0   84.0  18.0  36.6    False   \n",
       "1   56                        12       2.0  137.0   60.0  20.0  36.5     True   \n",
       "2   68                         8       2.0  130.0  102.0  20.0  36.6    False   \n",
       "3   71                         8       3.0  139.0   88.0  20.0  36.5     True   \n",
       "4   58                         4       3.0   91.0   93.0  18.0  36.5     True   \n",
       "\n",
       "   Group_2  Sex_1  ...  Arrival mode_5  Arrival mode_6  Arrival mode_7  \\\n",
       "0     True  False  ...           False           False           False   \n",
       "1    False   True  ...           False           False           False   \n",
       "2     True   True  ...           False           False           False   \n",
       "3    False  False  ...           False           False           False   \n",
       "4    False  False  ...           False           False           False   \n",
       "\n",
       "   Injury_1  Injury_2  Mental_1  Mental_2  Mental_3  Mental_4  \\\n",
       "0     False      True      True     False     False     False   \n",
       "1     False      True      True     False     False     False   \n",
       "2     False      True      True     False     False     False   \n",
       "3      True     False      True     False     False     False   \n",
       "4      True     False      True     False     False     False   \n",
       "\n",
       "   target_emergencia  \n",
       "0                  0  \n",
       "1                  0  \n",
       "2                  0  \n",
       "3                  0  \n",
       "4                  0  \n",
       "\n",
       "[5 rows x 25 columns]"
      ]
     },
     "execution_count": 72,
     "metadata": {},
     "output_type": "execute_result"
    }
   ],
   "source": [
    "df_encoded = pd.read_csv('./data/dataset_encoded.csv')\n",
    "df_encoded.head()"
   ]
  },
  {
   "cell_type": "code",
   "execution_count": 73,
   "id": "8e01b6a5",
   "metadata": {},
   "outputs": [],
   "source": [
    "X = df_encoded.drop(columns='target_emergencia')\n",
    "y = df_encoded['target_emergencia']"
   ]
  },
  {
   "cell_type": "code",
   "execution_count": 74,
   "id": "a2baa0b0",
   "metadata": {},
   "outputs": [],
   "source": [
    "X_train, X_test, y_train, y_test = train_test_split(X, y, stratify=y, random_state=42)"
   ]
  },
  {
   "cell_type": "code",
   "execution_count": 79,
   "id": "fd5d3cad",
   "metadata": {},
   "outputs": [],
   "source": [
    "rf = RandomForestClassifier(random_state=42)\n",
    "rf.fit(X_train, y_train)\n",
    "y_pred_rf = rf.predict(X_test)"
   ]
  },
  {
   "cell_type": "code",
   "execution_count": 80,
   "id": "338db32b",
   "metadata": {},
   "outputs": [
    {
     "name": "stdout",
     "output_type": "stream",
     "text": [
      "RandomForest:\n",
      "              precision    recall  f1-score   support\n",
      "\n",
      "           0       0.70      0.60      0.65       134\n",
      "           1       0.73      0.81      0.77       183\n",
      "\n",
      "    accuracy                           0.72       317\n",
      "   macro avg       0.72      0.71      0.71       317\n",
      "weighted avg       0.72      0.72      0.72       317\n",
      "\n"
     ]
    }
   ],
   "source": [
    "print(\"RandomForest:\")\n",
    "print(classification_report(y_test, y_pred_rf))\n",
    "evaluar_modelo('RandomForest', y_test, y_pred_rf)"
   ]
  },
  {
   "cell_type": "markdown",
   "id": "eac9117b",
   "metadata": {},
   "source": [
    "2. XGBoostClassifier"
   ]
  },
  {
   "cell_type": "code",
   "execution_count": 82,
   "id": "126859dd",
   "metadata": {},
   "outputs": [],
   "source": [
    "from xgboost import XGBClassifier"
   ]
  },
  {
   "cell_type": "code",
   "execution_count": 83,
   "id": "329215cc",
   "metadata": {},
   "outputs": [],
   "source": [
    "xgb = XGBClassifier(eval_metric='logloss', random_state=42)\n",
    "xgb.fit(X_train, y_train)\n",
    "y_pred_xgb = xgb.predict(X_test)"
   ]
  },
  {
   "cell_type": "code",
   "execution_count": 84,
   "id": "57ddd335",
   "metadata": {},
   "outputs": [
    {
     "name": "stdout",
     "output_type": "stream",
     "text": [
      "XGBoost:\n",
      "              precision    recall  f1-score   support\n",
      "\n",
      "           0       0.69      0.60      0.64       134\n",
      "           1       0.73      0.80      0.76       183\n",
      "\n",
      "    accuracy                           0.72       317\n",
      "   macro avg       0.71      0.70      0.70       317\n",
      "weighted avg       0.71      0.72      0.71       317\n",
      "\n"
     ]
    }
   ],
   "source": [
    "print(\"XGBoost:\")\n",
    "print(classification_report(y_test, y_pred_xgb))\n",
    "evaluar_modelo('XGBoost', y_test, y_pred_xgb)"
   ]
  },
  {
   "cell_type": "markdown",
   "id": "75f620af",
   "metadata": {},
   "source": [
    "3. CatBoostClassifier"
   ]
  },
  {
   "cell_type": "code",
   "execution_count": 89,
   "id": "03423370",
   "metadata": {},
   "outputs": [],
   "source": [
    "from catboost import CatBoostClassifier"
   ]
  },
  {
   "cell_type": "code",
   "execution_count": 90,
   "id": "26c9a3ad",
   "metadata": {},
   "outputs": [],
   "source": [
    "df_selected = pd.read_csv('./data/dataset_selected.csv')\n",
    "cat_features = ['Group', 'Sex', 'Arrival mode', 'Injury', 'Mental']"
   ]
  },
  {
   "cell_type": "code",
   "execution_count": 91,
   "id": "21bc23b4",
   "metadata": {},
   "outputs": [],
   "source": [
    "X = df_selected.drop(columns='target_emergencia')\n",
    "y = df_selected['target_emergencia']"
   ]
  },
  {
   "cell_type": "code",
   "execution_count": 92,
   "id": "063a9c70",
   "metadata": {},
   "outputs": [],
   "source": [
    "X_train, X_test, y_train, y_test = train_test_split(X, y, stratify=y, random_state=42)"
   ]
  },
  {
   "cell_type": "code",
   "execution_count": 93,
   "id": "05d069c3",
   "metadata": {},
   "outputs": [],
   "source": [
    "catboost = CatBoostClassifier(verbose=0, random_state=42)\n",
    "catboost.fit(X_train, y_train, cat_features=cat_features)\n",
    "y_pred_catboost = catboost.predict(X_test)"
   ]
  },
  {
   "cell_type": "code",
   "execution_count": 95,
   "id": "e312ff8e",
   "metadata": {},
   "outputs": [
    {
     "name": "stdout",
     "output_type": "stream",
     "text": [
      "CatBoost:\n",
      "              precision    recall  f1-score   support\n",
      "\n",
      "           0       0.71      0.59      0.64       134\n",
      "           1       0.73      0.82      0.77       183\n",
      "\n",
      "    accuracy                           0.72       317\n",
      "   macro avg       0.72      0.70      0.71       317\n",
      "weighted avg       0.72      0.72      0.72       317\n",
      "\n"
     ]
    }
   ],
   "source": [
    "print(\"CatBoost:\")\n",
    "print(classification_report(y_test, y_pred_catboost))\n",
    "evaluar_modelo('CatBoost', y_test, y_pred_catboost)"
   ]
  },
  {
   "cell_type": "markdown",
   "id": "d9efe65a",
   "metadata": {},
   "source": [
    "4. SVM (RBF)"
   ]
  },
  {
   "cell_type": "code",
   "execution_count": 107,
   "id": "b52682cd",
   "metadata": {},
   "outputs": [],
   "source": [
    "from sklearn.svm import SVC"
   ]
  },
  {
   "cell_type": "code",
   "execution_count": 108,
   "id": "7956c0b4",
   "metadata": {},
   "outputs": [],
   "source": [
    "df_preprocess = pd.read_csv('./data/dataset_preprocess.csv')\n",
    "X = df_preprocess.drop(columns='target_emergencia')\n",
    "y = df_preprocess['target_emergencia']"
   ]
  },
  {
   "cell_type": "code",
   "execution_count": 109,
   "id": "fdf09044",
   "metadata": {},
   "outputs": [],
   "source": [
    "X_train, X_test, y_train, y_test = train_test_split(X, y, stratify=y, random_state=42)"
   ]
  },
  {
   "cell_type": "code",
   "execution_count": 110,
   "id": "6b3715cc",
   "metadata": {},
   "outputs": [],
   "source": [
    "svm = SVC(kernel='rbf', probability=True, random_state=42)\n",
    "svm.fit(X_train, y_train)\n",
    "y_pred_svm = svm.predict(X_test)"
   ]
  },
  {
   "cell_type": "code",
   "execution_count": 111,
   "id": "e8563cec",
   "metadata": {},
   "outputs": [
    {
     "name": "stdout",
     "output_type": "stream",
     "text": [
      "SVM:\n",
      "              precision    recall  f1-score   support\n",
      "\n",
      "           0       0.70      0.51      0.59       134\n",
      "           1       0.70      0.84      0.76       183\n",
      "\n",
      "    accuracy                           0.70       317\n",
      "   macro avg       0.70      0.67      0.68       317\n",
      "weighted avg       0.70      0.70      0.69       317\n",
      "\n"
     ]
    }
   ],
   "source": [
    "print(\"SVM:\")\n",
    "print(classification_report(y_test, y_pred_svm))\n",
    "evaluar_modelo('SVM', y_test, y_pred_svm)"
   ]
  },
  {
   "cell_type": "markdown",
   "id": "33295ac2",
   "metadata": {},
   "source": [
    "5. MLPClassifier (Red neuronal)"
   ]
  },
  {
   "cell_type": "code",
   "execution_count": 112,
   "id": "a95e65e4",
   "metadata": {},
   "outputs": [],
   "source": [
    "from sklearn.neural_network import MLPClassifier"
   ]
  },
  {
   "cell_type": "code",
   "execution_count": 113,
   "id": "dde969ae",
   "metadata": {},
   "outputs": [],
   "source": [
    "mlp = MLPClassifier(\n",
    "    hidden_layer_sizes=(100,),\n",
    "    max_iter=1000,\n",
    "    early_stopping=True,\n",
    "    random_state=42\n",
    ")"
   ]
  },
  {
   "cell_type": "code",
   "execution_count": 114,
   "id": "42806530",
   "metadata": {},
   "outputs": [],
   "source": [
    "mlp.fit(X_train, y_train)\n",
    "y_pred_mlp = mlp.predict(X_test)"
   ]
  },
  {
   "cell_type": "code",
   "execution_count": 115,
   "id": "a8edf7ba",
   "metadata": {},
   "outputs": [
    {
     "name": "stdout",
     "output_type": "stream",
     "text": [
      "MLPClassifier:\n",
      "              precision    recall  f1-score   support\n",
      "\n",
      "           0       0.63      0.49      0.55       134\n",
      "           1       0.68      0.79      0.73       183\n",
      "\n",
      "    accuracy                           0.66       317\n",
      "   macro avg       0.65      0.64      0.64       317\n",
      "weighted avg       0.66      0.66      0.65       317\n",
      "\n"
     ]
    }
   ],
   "source": [
    "print(\"MLPClassifier:\")\n",
    "print(classification_report(y_test, y_pred_mlp))\n",
    "evaluar_modelo('MLPClassifier', y_test, y_pred_mlp)"
   ]
  },
  {
   "cell_type": "markdown",
   "id": "f93a5495",
   "metadata": {},
   "source": [
    "6. KNNClassifier"
   ]
  },
  {
   "cell_type": "code",
   "execution_count": 117,
   "id": "8ab421ae",
   "metadata": {},
   "outputs": [],
   "source": [
    "from sklearn.neighbors import KNeighborsClassifier"
   ]
  },
  {
   "cell_type": "code",
   "execution_count": 118,
   "id": "266a1085",
   "metadata": {},
   "outputs": [],
   "source": [
    "knn = KNeighborsClassifier(n_neighbors=5)\n",
    "knn.fit(X_train, y_train)\n",
    "y_pred_knn = knn.predict(X_test)"
   ]
  },
  {
   "cell_type": "code",
   "execution_count": 119,
   "id": "f00b2017",
   "metadata": {},
   "outputs": [
    {
     "name": "stdout",
     "output_type": "stream",
     "text": [
      "KNN:\n",
      "              precision    recall  f1-score   support\n",
      "\n",
      "           0       0.60      0.64      0.62       134\n",
      "           1       0.72      0.69      0.71       183\n",
      "\n",
      "    accuracy                           0.67       317\n",
      "   macro avg       0.66      0.67      0.66       317\n",
      "weighted avg       0.67      0.67      0.67       317\n",
      "\n"
     ]
    }
   ],
   "source": [
    "print(\"KNN:\")\n",
    "print(classification_report(y_test, y_pred_knn))\n",
    "evaluar_modelo('KNN', y_test, y_pred_knn)"
   ]
  },
  {
   "cell_type": "code",
   "execution_count": 121,
   "id": "c7b28a41",
   "metadata": {},
   "outputs": [
    {
     "data": {
      "text/html": [
       "<div>\n",
       "<style scoped>\n",
       "    .dataframe tbody tr th:only-of-type {\n",
       "        vertical-align: middle;\n",
       "    }\n",
       "\n",
       "    .dataframe tbody tr th {\n",
       "        vertical-align: top;\n",
       "    }\n",
       "\n",
       "    .dataframe thead th {\n",
       "        text-align: right;\n",
       "    }\n",
       "</style>\n",
       "<table border=\"1\" class=\"dataframe\">\n",
       "  <thead>\n",
       "    <tr style=\"text-align: right;\">\n",
       "      <th></th>\n",
       "      <th>Accuracy</th>\n",
       "      <th>Precision (0)</th>\n",
       "      <th>Precision (1)</th>\n",
       "      <th>Recall (0)</th>\n",
       "      <th>Recall (1)</th>\n",
       "      <th>F1 (0)</th>\n",
       "      <th>F1 (1)</th>\n",
       "    </tr>\n",
       "  </thead>\n",
       "  <tbody>\n",
       "    <tr>\n",
       "      <th>RandomForest</th>\n",
       "      <td>0.722</td>\n",
       "      <td>0.702</td>\n",
       "      <td>0.734</td>\n",
       "      <td>0.597</td>\n",
       "      <td>0.814</td>\n",
       "      <td>0.645</td>\n",
       "      <td>0.772</td>\n",
       "    </tr>\n",
       "    <tr>\n",
       "      <th>XGBoost</th>\n",
       "      <td>0.716</td>\n",
       "      <td>0.686</td>\n",
       "      <td>0.734</td>\n",
       "      <td>0.604</td>\n",
       "      <td>0.798</td>\n",
       "      <td>0.643</td>\n",
       "      <td>0.764</td>\n",
       "    </tr>\n",
       "    <tr>\n",
       "      <th>CatBoost</th>\n",
       "      <td>0.722</td>\n",
       "      <td>0.705</td>\n",
       "      <td>0.732</td>\n",
       "      <td>0.590</td>\n",
       "      <td>0.820</td>\n",
       "      <td>0.642</td>\n",
       "      <td>0.773</td>\n",
       "    </tr>\n",
       "    <tr>\n",
       "      <th>SVM</th>\n",
       "      <td>0.700</td>\n",
       "      <td>0.701</td>\n",
       "      <td>0.700</td>\n",
       "      <td>0.507</td>\n",
       "      <td>0.842</td>\n",
       "      <td>0.589</td>\n",
       "      <td>0.764</td>\n",
       "    </tr>\n",
       "    <tr>\n",
       "      <th>MLPClassifier</th>\n",
       "      <td>0.662</td>\n",
       "      <td>0.629</td>\n",
       "      <td>0.679</td>\n",
       "      <td>0.493</td>\n",
       "      <td>0.787</td>\n",
       "      <td>0.552</td>\n",
       "      <td>0.729</td>\n",
       "    </tr>\n",
       "    <tr>\n",
       "      <th>KNN</th>\n",
       "      <td>0.669</td>\n",
       "      <td>0.601</td>\n",
       "      <td>0.724</td>\n",
       "      <td>0.642</td>\n",
       "      <td>0.689</td>\n",
       "      <td>0.621</td>\n",
       "      <td>0.706</td>\n",
       "    </tr>\n",
       "  </tbody>\n",
       "</table>\n",
       "</div>"
      ],
      "text/plain": [
       "               Accuracy  Precision (0)  Precision (1)  Recall (0)  Recall (1)  \\\n",
       "RandomForest      0.722          0.702          0.734       0.597       0.814   \n",
       "XGBoost           0.716          0.686          0.734       0.604       0.798   \n",
       "CatBoost          0.722          0.705          0.732       0.590       0.820   \n",
       "SVM               0.700          0.701          0.700       0.507       0.842   \n",
       "MLPClassifier     0.662          0.629          0.679       0.493       0.787   \n",
       "KNN               0.669          0.601          0.724       0.642       0.689   \n",
       "\n",
       "               F1 (0)  F1 (1)  \n",
       "RandomForest    0.645   0.772  \n",
       "XGBoost         0.643   0.764  \n",
       "CatBoost        0.642   0.773  \n",
       "SVM             0.589   0.764  \n",
       "MLPClassifier   0.552   0.729  \n",
       "KNN             0.621   0.706  "
      ]
     },
     "metadata": {},
     "output_type": "display_data"
    }
   ],
   "source": [
    "df_resultados = pd.DataFrame(resultados).T.round(3)\n",
    "display(df_resultados)"
   ]
  },
  {
   "cell_type": "markdown",
   "id": "604d3019",
   "metadata": {},
   "source": [
    "## Métricas clave según el objetivo\n",
    "\n",
    "### Detectar emergencias sin errores graves\n",
    "- **Métrica clave:** `Recall (1)`\n",
    "- Mide qué tan bien el modelo identifica correctamente a los pacientes que realmente están en emergencia.\n",
    "- Es fundamental en contextos clínicos donde omitir una emergencia (falso negativo) puede tener consecuencias graves.\n",
    "- **Complemento útil:** `F1 (1)` para evaluar el balance general entre precisión y recall en la clase 1.\n",
    "\n",
    "### Evitar saturar el hospital con falsos positivos\n",
    "- **Métrica clave:** `Precision (1)`\n",
    "- Evalúa qué tan confiables son las predicciones positivas del modelo.\n",
    "- Es decir, de todos los pacientes que el modelo clasifica como \"emergencia\", ¿cuántos realmente lo son?\n",
    "- **Complemento útil:** `Recall (0)` para medir qué tan bien identifica a los pacientes que no están en emergencia.\n",
    "\n",
    "### Buscar equilibrio general del sistema\n",
    "- **Métricas clave:** `F1-score promedio` y `Accuracy`\n",
    "- Buscamos un rendimiento balanceado entre emergencias y no emergencias.\n",
    "- Ideal para sistemas en etapas de prototipo o modelos de apoyo clínico donde ambos tipos de error deben mantenerse bajo control.\n"
   ]
  },
  {
   "cell_type": "markdown",
   "id": "4e3f37e8",
   "metadata": {},
   "source": [
    "---"
   ]
  },
  {
   "cell_type": "markdown",
   "id": "97e9da86",
   "metadata": {},
   "source": [
    "## Escenarios de aplicación y modelos recomendados\n",
    "\n",
    "### Escenario 1: Hospital pequeño con recursos limitados\n",
    "- **Prioridad:** minimizar la clasificación incorrecta de emergencias (falsos positivos).\n",
    "- **Objetivo:** alta `Precision (1)` y buen `Recall (0)` para asegurar una asignación eficiente de recursos limitados.\n",
    "- **Modelos recomendados:** `XGBoost` o `RandomForest`.\n",
    "\n",
    "### Escenario 2: Sistema nacional de atención de emergencias (tipo SAMU)\n",
    "- **Prioridad:** no dejar pasar ninguna emergencia real.\n",
    "- **Objetivo:** alto `Recall (1)` aunque aumenten los falsos positivos.\n",
    "- **Modelo recomendado:** `CatBoost`, que mostró el mejor `Recall (1)` en la evaluación (`0.820`).\n",
    "\n",
    "### Escenario 3: Prototipo para derivación automatizada o triage digital\n",
    "- **Prioridad:** construir un sistema base balanceado para revisión y ajuste posterior.\n",
    "- **Objetivo:** buenas métricas generales (`Accuracy`, `F1 (1)`, `F1 (0)`).\n",
    "- **Modelos recomendados:** `RandomForest` o `CatBoost`.\n"
   ]
  },
  {
   "cell_type": "markdown",
   "id": "bbd500cb",
   "metadata": {},
   "source": []
  },
  {
   "cell_type": "code",
   "execution_count": null,
   "id": "95107929",
   "metadata": {},
   "outputs": [],
   "source": []
  },
  {
   "cell_type": "code",
   "execution_count": null,
   "id": "22999572",
   "metadata": {},
   "outputs": [],
   "source": []
  },
  {
   "cell_type": "code",
   "execution_count": null,
   "id": "e4675fc8",
   "metadata": {},
   "outputs": [],
   "source": []
  },
  {
   "cell_type": "code",
   "execution_count": null,
   "id": "d87ba025",
   "metadata": {},
   "outputs": [],
   "source": []
  }
 ],
 "metadata": {
  "language_info": {
   "name": "python"
  }
 },
 "nbformat": 4,
 "nbformat_minor": 5
}
